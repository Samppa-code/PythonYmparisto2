{
 "metadata": {
  "language_info": {
   "codemirror_mode": {
    "name": "ipython",
    "version": 3
   },
   "file_extension": ".py",
   "mimetype": "text/x-python",
   "name": "python",
   "nbconvert_exporter": "python",
   "pygments_lexer": "ipython3",
   "version": "3.8.7-final"
  },
  "orig_nbformat": 2,
  "kernelspec": {
   "name": "python3",
   "display_name": "Python 3.8.7 64-bit ('venv')",
   "metadata": {
    "interpreter": {
     "hash": "27c8d5b4bfc3196319092883e4b7a48336d31f99c4565ff316869fc814f3cceb"
    }
   }
  }
 },
 "nbformat": 4,
 "nbformat_minor": 2,
 "cells": [
  {
   "source": [
    "# Painonhallinta\n",
    "Prototyyppi painonhallintasovelluksen rakentamiseksi"
   ],
   "cell_type": "markdown",
   "metadata": {}
  },
  {
   "source": [
    "## Laskentakaavat\n",
    "Painoindeksi BMI (Body Mass Index): paino (kg) / (pituus(m) x pituus (m))\n",
    "\n",
    "Aikuisen rasvaprosentti = (1.20 × painoindeksi) + (0.23 × ikä) − (10.8 × sukupuoli) − 5.4\n",
    "\n",
    "Lapsen rasvaprosentti = (1.51 × painoindeksi) − (0.70 × ikä) − (3.6 × sukupuoli) + 1.4"
   ],
   "cell_type": "markdown",
   "metadata": {}
  },
  {
   "cell_type": "code",
   "execution_count": 7,
   "metadata": {},
   "outputs": [],
   "source": [
    "def bmi(paino,pituus):\n",
    "    painoindeksi = paino / (pituus * pituus)\n",
    "    return painoindeksi\n",
    "\n",
    "# Testataan toimintaa\n",
    "oma_bmi = bmi(73,1.71)"
   ]
  },
  {
   "cell_type": "code",
   "execution_count": 8,
   "metadata": {},
   "outputs": [],
   "source": [
    "def rasvaprosentti (bmi,ika,sukupuoli):\n",
    "    \n",
    "    rprosentti = (1.2 * bmi) + (0.23 * ika) - (10.8 * sukupuoli) - 5.4\n",
    "    return rprosentti\n",
    "\n",
    "\n"
   ]
  },
  {
   "cell_type": "code",
   "execution_count": 9,
   "metadata": {},
   "outputs": [],
   "source": [
    "# Kysytään käyttäjältä tarvittavat tiedod\n",
    "# Huom. Näppäimmistöltä saadaan aina merkkijono (string)\n",
    "paino_str = input(\"Anna painosi kilogrammoina: \")\n",
    "pituus_str = input(\"Anna pituutesi metreinä: \")\n",
    "ika_str = input(\"Kuinka vanha olet: \")\n",
    "sukupuoli_str = input(\"Paina 1 jos olet mies, 0 jos olet nainen: \")"
   ]
  },
  {
   "cell_type": "code",
   "execution_count": 10,
   "metadata": {},
   "outputs": [
    {
     "output_type": "error",
     "ename": "ValueError",
     "evalue": "could not convert string to float: '1,71'",
     "traceback": [
      "\u001b[1;31m---------------------------------------------------------------------------\u001b[0m",
      "\u001b[1;31mValueError\u001b[0m                                Traceback (most recent call last)",
      "\u001b[1;32m<ipython-input-10-bbb0ad3ae076>\u001b[0m in \u001b[0;36m<module>\u001b[1;34m\u001b[0m\n\u001b[0;32m      1\u001b[0m \u001b[1;31m# Muutetaan kerkkijonot luvuiksi\u001b[0m\u001b[1;33m\u001b[0m\u001b[1;33m\u001b[0m\u001b[1;33m\u001b[0m\u001b[0m\n\u001b[0;32m      2\u001b[0m \u001b[0mpaino\u001b[0m \u001b[1;33m=\u001b[0m \u001b[0mfloat\u001b[0m\u001b[1;33m(\u001b[0m\u001b[0mpaino_str\u001b[0m\u001b[1;33m)\u001b[0m\u001b[1;33m\u001b[0m\u001b[1;33m\u001b[0m\u001b[0m\n\u001b[1;32m----> 3\u001b[1;33m \u001b[0mpituus\u001b[0m \u001b[1;33m=\u001b[0m \u001b[0mfloat\u001b[0m\u001b[1;33m(\u001b[0m\u001b[0mpituus_str\u001b[0m\u001b[1;33m)\u001b[0m\u001b[1;33m\u001b[0m\u001b[1;33m\u001b[0m\u001b[0m\n\u001b[0m\u001b[0;32m      4\u001b[0m \u001b[0mika\u001b[0m \u001b[1;33m=\u001b[0m \u001b[0mfloat\u001b[0m\u001b[1;33m(\u001b[0m\u001b[0mika_str\u001b[0m\u001b[1;33m)\u001b[0m\u001b[1;33m\u001b[0m\u001b[1;33m\u001b[0m\u001b[0m\n\u001b[0;32m      5\u001b[0m \u001b[0msukupuoli\u001b[0m \u001b[1;33m=\u001b[0m \u001b[0mfloat\u001b[0m\u001b[1;33m(\u001b[0m\u001b[0msukupuoli_str\u001b[0m\u001b[1;33m)\u001b[0m\u001b[1;33m\u001b[0m\u001b[1;33m\u001b[0m\u001b[0m\n",
      "\u001b[1;31mValueError\u001b[0m: could not convert string to float: '1,71'"
     ]
    }
   ],
   "source": [
    "# Muutetaan kerkkijonot luvuiksi\n",
    "paino = float(paino_str)\n",
    "pituus = float(pituus_str)\n",
    "ika = float(ika_str)\n",
    "sukupuoli = float(sukupuoli_str)\n"
   ]
  },
  {
   "cell_type": "code",
   "execution_count": 6,
   "metadata": {},
   "outputs": [
    {
     "output_type": "stream",
     "name": "stdout",
     "text": [
      "Rasvaprosenttisi on:  27.508318456961128\n"
     ]
    }
   ],
   "source": [
    "# Lasketaan painoindeksi kysyttyjen tietojen perusteella\n",
    "bmi = bmi(paino,pituus)\n",
    "\n",
    "# Lasketaan rasvaprosentti\n",
    "rasvaprosentti = rasvaprosentti(bmi, ika, sukupuoli)\n",
    "print (\"Rasvaprosenttisi on: \", rasvaprosentti )"
   ]
  }
 ]
}