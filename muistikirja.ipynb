{
 "metadata": {
  "language_info": {
   "codemirror_mode": {
    "name": "ipython",
    "version": 3
   },
   "file_extension": ".py",
   "mimetype": "text/x-python",
   "name": "python",
   "nbconvert_exporter": "python",
   "pygments_lexer": "ipython3",
   "version": "3.8.7-final"
  },
  "orig_nbformat": 2,
  "kernelspec": {
   "name": "python3",
   "display_name": "Python 3.8.7 64-bit ('venv')",
   "metadata": {
    "interpreter": {
     "hash": "27c8d5b4bfc3196319092883e4b7a48336d31f99c4565ff316869fc814f3cceb"
    }
   }
  }
 },
 "nbformat": 4,
 "nbformat_minor": 2,
 "cells": [
  {
   "source": [
    "# Painonhallinta\n",
    "Prototyyppi painonhallintasovelluksen rakentamiseksi"
   ],
   "cell_type": "markdown",
   "metadata": {}
  },
  {
   "source": [
    "## Laskentakaavat\n",
    "Painoindeksi BMI (Body Mass Index): paino (kg) / (pituus(m) x pituus (m))\n",
    "\n",
    "Aikuisen rasvaprosentti = (1.20 × painoindeksi) + (0.23 × ikä) − (10.8 × sukupuoli) − 5.4\n",
    "\n",
    "Lapsen rasvaprosentti = (1.51 × painoindeksi) − (0.70 × ikä) − (3.6 × sukupuoli) + 1.4"
   ],
   "cell_type": "markdown",
   "metadata": {}
  },
  {
   "cell_type": "code",
   "execution_count": 7,
   "metadata": {},
   "outputs": [],
   "source": [
    "def bmi(paino,pituus):\n",
    "    painoindeksi = paino / (pituus * pituus)\n",
    "    return painoindeksi\n",
    "\n",
    "# Testataan toimintaa\n",
    "oma_bmi = bmi(73,1.71)"
   ]
  },
  {
   "cell_type": "code",
   "execution_count": 8,
   "metadata": {},
   "outputs": [],
   "source": [
    "def rasvaprosentti (bmi,ika,sukupuoli):\n",
    "    rprosentti = (1.2 * bmi) + (0.23 * ika) - (10.8 * sukupuoli) - 5.4\n",
    "    return rprosentti\n",
    "\n",
    "oma_rasvaprosentti = rasvaprosentti(oma_bmi, 58, 1)\n"
   ]
  }
 ]
}